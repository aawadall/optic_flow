{
 "cells": [
  {
   "attachments": {},
   "cell_type": "markdown",
   "metadata": {},
   "source": [
    "# Experiment 1\n",
    "Test how to load a video and show the first frame.\n",
    "_Assuming a file located in ~/samples/vid.mp4_\n",
    "\n"
   ]
  },
  {
   "cell_type": "code",
   "execution_count": 1,
   "metadata": {},
   "outputs": [
    {
     "name": "stdout",
     "output_type": "stream",
     "text": [
      "Defaulting to user installation because normal site-packages is not writeable\n",
      "Requirement already satisfied: opencv-python in /home/ahmed/.local/lib/python3.10/site-packages (4.7.0.68)\n",
      "Requirement already satisfied: numpy>=1.19.3 in /home/ahmed/.local/lib/python3.10/site-packages (from opencv-python) (1.23.1)\n"
     ]
    }
   ],
   "source": [
    "# pip \n",
    "!pip install opencv-python"
   ]
  },
  {
   "cell_type": "code",
   "execution_count": 2,
   "metadata": {},
   "outputs": [],
   "source": [
    "# import libraries\n",
    "import cv2 \n",
    "import numpy as np\n",
    "import matplotlib.pyplot as plt"
   ]
  },
  {
   "attachments": {},
   "cell_type": "markdown",
   "metadata": {},
   "source": [
    "Loading the video"
   ]
  },
  {
   "cell_type": "code",
   "execution_count": 3,
   "metadata": {},
   "outputs": [],
   "source": [
    "# Get path to video clip from a form \n",
    "#@title Video clip path\n",
    "file_path = \"../samples/vid.mp4\" #@param {type:\"string\"}\n"
   ]
  },
  {
   "attachments": {},
   "cell_type": "markdown",
   "metadata": {},
   "source": [
    "## Define Partial Derivative\n",
    "Define the partial derivative on change of images in terms of:\n",
    "1. Translation (x,y) with respect to time \n",
    "\n",
    "TODO:\n",
    "1. Changes in brightness (I) with respect to time\n",
    "2. Changes in Hue (H) with respect to time\n",
    "3. Scale (s) with respect to time\n",
    "4. Rotation (r) with respect to time"
   ]
  },
  {
   "cell_type": "code",
   "execution_count": 4,
   "metadata": {},
   "outputs": [],
   "source": [
    "def dx_dt(frame_1: np.ndarray, frame_2: np.ndarray) -> np.ndarray:\n",
    "    \"\"\"Calculates the partial derivative (x transaltion) of the image with respect to time\n",
    "    Args:\n",
    "        frame_1 (np.ndarray): image at t\n",
    "        frame_2 (np.ndarray): image at t+1\n",
    "    Returns:\n",
    "        np.ndarray: derivative of the image with respect to time (x translation)\n",
    "    \"\"\"\n",
    "    # shift frame_1 to the left by 1 pixel\n",
    "    frame_1_shifted = np.roll(frame_1, -1, axis=1)\n",
    "\n",
    "    return frame_2 - frame_1_shifted\n",
    "    "
   ]
  },
  {
   "cell_type": "code",
   "execution_count": 5,
   "metadata": {},
   "outputs": [],
   "source": [
    "def dy_dt(frame_1: np.ndarray, frame_2: np.ndarray) -> np.ndarray:\n",
    "    \"\"\"Calculates the partial derivative (y transaltion) of the image with respect to time\n",
    "    Args:\n",
    "        frame_1 (np.ndarray): image at t\n",
    "        frame_2 (np.ndarray): image at t+1\n",
    "    Returns:\n",
    "        np.ndarray: derivative of the image with respect to time (y translation)\n",
    "    \"\"\"\n",
    "\n",
    "    # shift frame_1 up by 1 pixel\n",
    "    frame_1_shifted = np.roll(frame_1, -1, axis=0)\n",
    "\n",
    "    return frame_2 - frame_1_shifted"
   ]
  },
  {
   "cell_type": "code",
   "execution_count": 6,
   "metadata": {},
   "outputs": [
    {
     "ename": "error",
     "evalue": "OpenCV(4.7.0) /io/opencv/modules/videoio/src/cap_ffmpeg.cpp:169: error: (-215:Assertion failed) image.depth() == CV_8U || image.depth() == CV_16U in function 'write'\n",
     "output_type": "error",
     "traceback": [
      "\u001b[0;31m---------------------------------------------------------------------------\u001b[0m",
      "\u001b[0;31merror\u001b[0m                                     Traceback (most recent call last)",
      "Cell \u001b[0;32mIn[6], line 45\u001b[0m\n\u001b[1;32m     42\u001b[0m     color \u001b[39m=\u001b[39m np\u001b[39m.\u001b[39msqrt(dx_dt_img\u001b[39m*\u001b[39m\u001b[39m*\u001b[39m\u001b[39m2\u001b[39m \u001b[39m+\u001b[39m dy_dt_img\u001b[39m*\u001b[39m\u001b[39m*\u001b[39m\u001b[39m2\u001b[39m)\n\u001b[1;32m     44\u001b[0m     \u001b[39m# write to video\u001b[39;00m\n\u001b[0;32m---> 45\u001b[0m     out\u001b[39m.\u001b[39;49mwrite(color)    \n\u001b[1;32m     46\u001b[0m     \u001b[39m# # plot the derivative as quiever plot\u001b[39;00m\n\u001b[1;32m     47\u001b[0m     \u001b[39m# plt.quiver(X, Y, dx_dt_img, dy_dt_img, color)\u001b[39;00m\n\u001b[1;32m     48\u001b[0m     \n\u001b[1;32m     49\u001b[0m     \u001b[39m# plt.show()\u001b[39;00m\n\u001b[1;32m     50\u001b[0m \n\u001b[1;32m     51\u001b[0m \u001b[39m# release video writer\u001b[39;00m\n\u001b[1;32m     52\u001b[0m out\u001b[39m.\u001b[39mrelease()\n",
      "\u001b[0;31merror\u001b[0m: OpenCV(4.7.0) /io/opencv/modules/videoio/src/cap_ffmpeg.cpp:169: error: (-215:Assertion failed) image.depth() == CV_8U || image.depth() == CV_16U in function 'write'\n"
     ]
    }
   ],
   "source": [
    "\n",
    "video = cv2.VideoCapture(file_path)\n",
    "success, image = video.read()\n",
    "count = 0\n",
    "\n",
    "# get image dimensions\n",
    "height, width, layers = image.shape\n",
    "\n",
    "# create i_1, i_2 matrix for storing images\n",
    "i_1 = np.zeros((height, width, layers), dtype=np.uint8)\n",
    "i_2 = np.zeros((height, width, layers), dtype=np.uint8)\n",
    "\n",
    "# pre-populate i_2 with first frame\n",
    "i_2 = image\n",
    "\n",
    "# build X, Y grid for quiver plot\n",
    "x = np.arange(0, width, 1)\n",
    "y = np.arange(0, height, 1)\n",
    "\n",
    "X, Y = np.meshgrid(x, y)\n",
    "\n",
    "# create video writer\n",
    "fourcc = cv2.VideoWriter_fourcc(*'XVID')\n",
    "out = cv2.VideoWriter('output.avi', fourcc, 20.0, (width, height))\n",
    "\n",
    "while success:\n",
    "    # populate i_1 with i_2\n",
    "    i_1 = i_2\n",
    "\n",
    "    # populate i_2 with next frame\n",
    "    success, i_2 = video.read()\n",
    "\n",
    "    # if shape of i_2 is not equal to i_1, or either shape is None break\n",
    "    if i_1 is None or i_2 is None or i_2.shape != i_1.shape:\n",
    "        break    \n",
    "    # flatten color channels\n",
    "    flat_i_1 = i_1.mean(axis=2)\n",
    "    flat_i_2 = i_2.mean(axis=2)\n",
    "\n",
    "    # get translation derivative\n",
    "    dx_dt_img = dx_dt(flat_i_1, flat_i_2)\n",
    "    dy_dt_img = dy_dt(flat_i_1, flat_i_2)\n",
    "    color = np.sqrt(dx_dt_img**2 + dy_dt_img**2)\n",
    "\n",
    "    # write to video\n",
    "    out.write(color)    \n",
    "    # # plot the derivative as quiever plot\n",
    "    # plt.quiver(X, Y, dx_dt_img, dy_dt_img, color)\n",
    "    \n",
    "    # plt.show()\n",
    "\n",
    "# release video writer\n",
    "out.release()"
   ]
  }
 ],
 "metadata": {
  "kernelspec": {
   "display_name": "Python 3",
   "language": "python",
   "name": "python3"
  },
  "language_info": {
   "codemirror_mode": {
    "name": "ipython",
    "version": 3
   },
   "file_extension": ".py",
   "mimetype": "text/x-python",
   "name": "python",
   "nbconvert_exporter": "python",
   "pygments_lexer": "ipython3",
   "version": "3.10.6"
  },
  "orig_nbformat": 4,
  "vscode": {
   "interpreter": {
    "hash": "916dbcbb3f70747c44a77c7bcd40155683ae19c65e1c03b4aa3499c5328201f1"
   }
  }
 },
 "nbformat": 4,
 "nbformat_minor": 2
}
