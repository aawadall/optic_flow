{
 "cells": [
  {
   "attachments": {},
   "cell_type": "markdown",
   "metadata": {},
   "source": [
    "# Experiment 1\n",
    "Test how to load a video and show the first frame.\n",
    "_Assuming a file located in ~/samples/vid.mp4_\n",
    "\n"
   ]
  },
  {
   "cell_type": "code",
   "execution_count": 1,
   "metadata": {},
   "outputs": [
    {
     "name": "stdout",
     "output_type": "stream",
     "text": [
      "Defaulting to user installation because normal site-packages is not writeable\n",
      "Requirement already satisfied: opencv-python in /home/ahmed/.local/lib/python3.10/site-packages (4.7.0.68)\n",
      "Requirement already satisfied: numpy>=1.17.0 in /home/ahmed/.local/lib/python3.10/site-packages (from opencv-python) (1.23.1)\n"
     ]
    }
   ],
   "source": [
    "# pip \n",
    "!pip install opencv-python"
   ]
  },
  {
   "cell_type": "code",
   "execution_count": 2,
   "metadata": {},
   "outputs": [],
   "source": [
    "# import libraries\n",
    "import cv2 \n",
    "import numpy as np\n",
    "import matplotlib.pyplot as plt"
   ]
  },
  {
   "attachments": {},
   "cell_type": "markdown",
   "metadata": {},
   "source": [
    "Loading the video"
   ]
  },
  {
   "cell_type": "code",
   "execution_count": null,
   "metadata": {},
   "outputs": [],
   "source": [
    "# Get path to video clip from a form \n",
    "#@title Video clip path\n",
    "file_path = \"../samples/vid.mp4\" #@param {type:\"string\"}\n"
   ]
  },
  {
   "cell_type": "code",
   "execution_count": null,
   "metadata": {},
   "outputs": [
    {
     "ename": "",
     "evalue": "",
     "output_type": "error",
     "traceback": [
      "\u001b[1;31mThe Kernel crashed while executing code in the the current cell or a previous cell. Please review the code in the cell(s) to identify a possible cause of the failure. Click <a href='https://aka.ms/vscodeJupyterKernelCrash'>here</a> for more info. View Jupyter <a href='command:jupyter.viewOutput'>log</a> for further details."
     ]
    }
   ],
   "source": [
    "\n",
    "video = cv2.VideoCapture(file_path)\n",
    "success, image = video.read()\n",
    "count = 0\n",
    "\n",
    "# get image dimensions\n",
    "height, width, layers = image.shape\n",
    "\n",
    "# create i_1, i_2 matrix for storing images\n",
    "i_1 = np.zeros((height, width, layers), dtype=np.uint8)\n",
    "i_2 = np.zeros((height, width, layers), dtype=np.uint8)\n",
    "\n",
    "# pre-populate i_2 with first frame\n",
    "i_2 = image\n",
    "\n",
    "while success:\n",
    "    # populate i_1 with i_2\n",
    "    i_1 = i_2\n",
    "\n",
    "    # populate i_2 with next frame\n",
    "    success, i_2 = video.read()\n",
    "\n",
    "    # if shape of i_2 is not equal to i_1, or either shape is None break\n",
    "    if i_1 is None or i_2 is None or i_2.shape != i_1.shape:\n",
    "        break    \n",
    "    # calculate difference between i_1 and i_2\n",
    "    diff = cv2.absdiff(i_1, i_2)\n",
    "\n",
    "    # convert difference to grayscale\n",
    "    gray = cv2.cvtColor(diff, cv2.COLOR_BGR2GRAY)\n",
    "\n",
    "    # draw grayscale image on screen\n",
    "    plt.imshow(gray, cmap='gray')\n",
    "    plt.show()\n"
   ]
  }
 ],
 "metadata": {
  "kernelspec": {
   "display_name": "Python 3",
   "language": "python",
   "name": "python3"
  },
  "language_info": {
   "codemirror_mode": {
    "name": "ipython",
    "version": 3
   },
   "file_extension": ".py",
   "mimetype": "text/x-python",
   "name": "python",
   "nbconvert_exporter": "python",
   "pygments_lexer": "ipython3",
   "version": "3.10.6"
  },
  "orig_nbformat": 4,
  "vscode": {
   "interpreter": {
    "hash": "916dbcbb3f70747c44a77c7bcd40155683ae19c65e1c03b4aa3499c5328201f1"
   }
  }
 },
 "nbformat": 4,
 "nbformat_minor": 2
}
